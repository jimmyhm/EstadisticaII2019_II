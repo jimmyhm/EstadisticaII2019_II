{
 "cells": [
  {
   "cell_type": "markdown",
   "metadata": {},
   "source": [
    "### Validación de supuestos "
   ]
  },
  {
   "cell_type": "code",
   "execution_count": null,
   "metadata": {},
   "outputs": [],
   "source": [
    "#Instalar si  aún no lo ha hecho\n",
    "install.packages('faraway') \n",
    "install.packages('tseries') "
   ]
  },
  {
   "cell_type": "code",
   "execution_count": 3,
   "metadata": {},
   "outputs": [],
   "source": [
    "#Cargar las bibliotecas\n",
    "library(faraway)#linealidad \n",
    "library(tseries)#acf \n",
    "library(car) #para homocedasticidad \n",
    "library(nortest) #test de normalidad "
   ]
  },
  {
   "cell_type": "code",
   "execution_count": 4,
   "metadata": {},
   "outputs": [
    {
     "data": {
      "text/html": [
       "<table>\n",
       "<thead><tr><th scope=col>y</th><th scope=col>M</th><th scope=col>So</th><th scope=col>Ed</th><th scope=col>Po1</th><th scope=col>LF</th><th scope=col>M.F</th><th scope=col>Pop</th><th scope=col>U1</th><th scope=col>U2</th><th scope=col>GDP</th></tr></thead>\n",
       "<tbody>\n",
       "\t<tr><td> 79.1</td><td>151  </td><td>1    </td><td> 9.1 </td><td> 58  </td><td>510  </td><td> 950 </td><td>33   </td><td>108  </td><td>41   </td><td>394  </td></tr>\n",
       "\t<tr><td>163.5</td><td>143  </td><td>0    </td><td>11.3 </td><td>103  </td><td>583  </td><td>1012 </td><td>13   </td><td> 96  </td><td>36   </td><td>557  </td></tr>\n",
       "</tbody>\n",
       "</table>\n"
      ],
      "text/latex": [
       "\\begin{tabular}{r|lllllllllll}\n",
       " y & M & So & Ed & Po1 & LF & M.F & Pop & U1 & U2 & GDP\\\\\n",
       "\\hline\n",
       "\t  79.1 & 151   & 1     &  9.1  &  58   & 510   &  950  & 33    & 108   & 41    & 394  \\\\\n",
       "\t 163.5 & 143   & 0     & 11.3  & 103   & 583   & 1012  & 13    &  96   & 36    & 557  \\\\\n",
       "\\end{tabular}\n"
      ],
      "text/markdown": [
       "\n",
       "y | M | So | Ed | Po1 | LF | M.F | Pop | U1 | U2 | GDP | \n",
       "|---|---|\n",
       "|  79.1 | 151   | 1     |  9.1  |  58   | 510   |  950  | 33    | 108   | 41    | 394   | \n",
       "| 163.5 | 143   | 0     | 11.3  | 103   | 583   | 1012  | 13    |  96   | 36    | 557   | \n",
       "\n",
       "\n"
      ],
      "text/plain": [
       "  y     M   So Ed   Po1 LF  M.F  Pop U1  U2 GDP\n",
       "1  79.1 151 1   9.1  58 510  950 33  108 41 394\n",
       "2 163.5 143 0  11.3 103 583 1012 13   96 36 557"
      ]
     },
     "metadata": {},
     "output_type": "display_data"
    },
    {
     "data": {
      "text/html": [
       "<ol class=list-inline>\n",
       "\t<li>47</li>\n",
       "\t<li>11</li>\n",
       "</ol>\n"
      ],
      "text/latex": [
       "\\begin{enumerate*}\n",
       "\\item 47\n",
       "\\item 11\n",
       "\\end{enumerate*}\n"
      ],
      "text/markdown": [
       "1. 47\n",
       "2. 11\n",
       "\n",
       "\n"
      ],
      "text/plain": [
       "[1] 47 11"
      ]
     },
     "metadata": {},
     "output_type": "display_data"
    }
   ],
   "source": [
    "dataset=read.csv('crime.csv',sep = ',',header = TRUE)\n",
    "#y=dataset[,1]\n",
    "X=subset(dataset, select = -y)\n",
    "dataset[1:2,]\n",
    "dim(dataset)"
   ]
  },
  {
   "cell_type": "code",
   "execution_count": 5,
   "metadata": {},
   "outputs": [
    {
     "data": {
      "text/plain": [
       "\n",
       "Call:\n",
       "lm(formula = y ~ ., data = dataset)\n",
       "\n",
       "Residuals:\n",
       "    Min      1Q  Median      3Q     Max \n",
       "-43.645 -13.377   0.589  12.143  55.462 \n",
       "\n",
       "Coefficients:\n",
       "              Estimate Std. Error t value Pr(>|t|)    \n",
       "(Intercept) -589.39985  167.59057  -3.517 0.001201 ** \n",
       "M              1.04058    0.44639   2.331 0.025465 *  \n",
       "So            11.29464   13.24510   0.853 0.399441    \n",
       "Ed            11.77942    6.81813   1.728 0.092620 .  \n",
       "Po1            0.96364    0.24955   3.862 0.000451 ***\n",
       "LF             0.10604    0.15327   0.692 0.493467    \n",
       "M.F            0.30353    0.22269   1.363 0.181344    \n",
       "Pop            0.09042    0.13866   0.652 0.518494    \n",
       "U1            -0.68179    0.48079  -1.418 0.164774    \n",
       "U2             2.15028    0.95078   2.262 0.029859 *  \n",
       "GDP           -0.08309    0.09099  -0.913 0.367229    \n",
       "---\n",
       "Signif. codes:  0 '***' 0.001 '**' 0.01 '*' 0.05 '.' 0.1 ' ' 1\n",
       "\n",
       "Residual standard error: 24.56 on 36 degrees of freedom\n",
       "Multiple R-squared:  0.6845,\tAdjusted R-squared:  0.5968 \n",
       "F-statistic: 7.809 on 10 and 36 DF,  p-value: 1.704e-06\n"
      ]
     },
     "metadata": {},
     "output_type": "display_data"
    }
   ],
   "source": [
    "modelo=lm(y~., data=dataset)\n",
    "summary(modelo)"
   ]
  },
  {
   "cell_type": "markdown",
   "metadata": {},
   "source": [
    "#### Linealidad \n",
    "$\\textbf{Residuales Parciales.}$ Sea $x_j$ una covariable, los residuos parciales son aquellos que se obtienen cuando se precinde de la covariable $x_j$ en el ajuste,  \n",
    "$$\n",
    "e^{*}_{ij}=y_i-\\sum_{k\\neq j}\\hat{\\beta}_kx_{ik}=e_i+\\hat{\\beta}_jx_{ij}\\hspace{0.5cm}i=1,...,n\n",
    "$$\n",
    "Se grafica los residuales del modelo ajustado sin la covariable $x_j$ contra esta covarivable, si la relación entre $x_j$ e $Y$ es lineal se espera que ésta gráfica presente una relación lineal. "
   ]
  },
  {
   "cell_type": "code",
   "execution_count": 6,
   "metadata": {},
   "outputs": [
    {
     "data": {
      "image/png": "[encoded data removed]",
      "text/plain": [
       "plot without title"
      ]
     },
     "metadata": {},
     "output_type": "display_data"
    }
   ],
   "source": [
    "opar=par(mfrow=c(2,2))\n",
    "# Residuos parciales para 1,3,4,5\n",
    "prplot(modelo,1)\n",
    "prplot(modelo,3)\n",
    "prplot(modelo,4)\n",
    "prplot(modelo,5)\n",
    "par(opar)"
   ]
  },
  {
   "cell_type": "markdown",
   "metadata": {},
   "source": [
    "#### Independencia de los errores\n",
    "$\\textbf{La autocorrelación}$ de una serie de datos discreta de un proceso $X_t$ no es más\n",
    "que el coéficiente de correlación de dicho proceso con una versión desplazada de la propia\n",
    "serie Sea $e_1,...e_n$ una serie de datos el coeficiente de autocorrelación es:\n",
    "\n",
    "$$\n",
    "    \\rho_k=\\dfrac{\\sum_{i=1}^{n-k}(e_i-\\bar{e})(e_{i-k}-\\bar{e})}{\\sum_{i=1}^{n-k}(e_i-\\bar{e})^2}\n",
    "$$\n",
    "Si $\\rho_k$ se aleja del valor 0 hay evidencia de que cada k observaciones hay un patrón de los\n",
    "residuales pues dichas observaciones están muy correlacionadas lo que implicará dependencia\n",
    "de los residuales. Entoncesla idea es contrastar $\\rho_k=0$ vs $\\rho_k\\neq 0$ . R tiene programada la prueba en la función $acf$.\n",
    "En la siguiente gráfica se espera que todas las correlaciones estén dentro de la banda de confianza, salvo por la primera que toma el valor de 1. Si para alguna observación se sale de la banda de confianza se dice que se encontro una correlación estadísticamente significativa y hay un patrón en los residuales. \n"
   ]
  },
  {
   "cell_type": "code",
   "execution_count": 7,
   "metadata": {},
   "outputs": [
    {
     "data": {
      "image/png": "[encoded data removed]",
      "text/plain": [
       "Plot with title \"Series  resid\""
      ]
     },
     "metadata": {},
     "output_type": "display_data"
    }
   ],
   "source": [
    "options(repr.plot.width=5,repr.plot.height=3)\n",
    "resid = modelo$res\n",
    "# Prueba de Independencia\n",
    "acf(resid) "
   ]
  },
  {
   "cell_type": "markdown",
   "metadata": {},
   "source": [
    "Otra manera de probar la independencia de los residuales es probar la aleatoriedad con la que van cambiando los signos.\n",
    "\n",
    "$\\textbf{Una racha}$ se define como una secuencia de valores muestrales con una característica común precedida y seguida por valores que no presentan esa característica.\n",
    " La idea de la prueba es contar el número de rachas en la muestra, en este caso cambios de signo, luego un número reducido\n",
    "o grande de rachas es indicio de que las observaciones no se han obtenido de forma aleatoria.\n",
    "Aquí la hipótesis nula es que la muestra es aleatoria y se pretenden tener $\\mathtt{p-values}$ grandes para no rechazar la hipótesis nula. Como podemos observar en nuestro caso se satisface el supuesto."
   ]
  },
  {
   "cell_type": "code",
   "execution_count": 8,
   "metadata": {},
   "outputs": [
    {
     "data": {
      "text/plain": [
       "\n",
       "\tRuns Test\n",
       "\n",
       "data:  as.factor(resid > 0)\n",
       "Standard Normal = -0.14441, p-value = 0.8852\n",
       "alternative hypothesis: two.sided\n"
      ]
     },
     "metadata": {},
     "output_type": "display_data"
    }
   ],
   "source": [
    "runs.test(as.factor(resid > 0))"
   ]
  },
  {
   "cell_type": "markdown",
   "metadata": {},
   "source": [
    "#### Varianza Constante de los residuales  \n",
    "Otro de los supuestos que necesitamos verificar es la Homocedásticidad (igualdad de varianzas), para ello usaremos dos pruebas formales que son la de Barttlet y Levené, ambos suponen normalidad. Y adémas se requiere tener definidos grupos. Las hipótesis nula es que los grupos son hómocedasticos. Y se pretende no rechazar $H_0$\n",
    "Para el caso de Barttlet tenemos que tener definido grupos en el vector de residuales."
   ]
  },
  {
   "cell_type": "code",
   "execution_count": 9,
   "metadata": {},
   "outputs": [
    {
     "data": {
      "text/plain": [
       "\n",
       "\tBartlett test of homogeneity of variances\n",
       "\n",
       "data:  resid and grupo\n",
       "Bartlett's K-squared = 1.6483, df = 2, p-value = 0.4386\n"
      ]
     },
     "metadata": {},
     "output_type": "display_data"
    }
   ],
   "source": [
    "grupo = c(rep(1, 15), rep(2, 15), rep(3,17))\n",
    "bartlett.test(resid, grupo)"
   ]
  },
  {
   "cell_type": "markdown",
   "metadata": {},
   "source": [
    "La idea que hay de tras de la prueba de Levené es utilizar el ANOVA para probar iguadad de las varianzas en cada grupo. "
   ]
  },
  {
   "cell_type": "code",
   "execution_count": 10,
   "metadata": {},
   "outputs": [
    {
     "data": {
      "text/html": [
       "<table>\n",
       "<thead><tr><th></th><th scope=col>Df</th><th scope=col>F value</th><th scope=col>Pr(&gt;F)</th></tr></thead>\n",
       "<tbody>\n",
       "\t<tr><th scope=row>group</th><td> 2       </td><td>0.4715546</td><td>0.6271485</td></tr>\n",
       "\t<tr><th scope=row> </th><td>44       </td><td>       NA</td><td>       NA</td></tr>\n",
       "</tbody>\n",
       "</table>\n"
      ],
      "text/latex": [
       "\\begin{tabular}{r|lll}\n",
       "  & Df & F value & Pr(>F)\\\\\n",
       "\\hline\n",
       "\tgroup &  2        & 0.4715546 & 0.6271485\\\\\n",
       "\t  & 44        &        NA &        NA\\\\\n",
       "\\end{tabular}\n"
      ],
      "text/markdown": [
       "\n",
       "| <!--/--> | Df | F value | Pr(>F) | \n",
       "|---|---|\n",
       "| group |  2        | 0.4715546 | 0.6271485 | \n",
       "|   | 44        |        NA |        NA | \n",
       "\n",
       "\n"
      ],
      "text/plain": [
       "      Df F value   Pr(>F)   \n",
       "group  2 0.4715546 0.6271485\n",
       "      44        NA        NA"
      ]
     },
     "metadata": {},
     "output_type": "display_data"
    }
   ],
   "source": [
    "grupo = as.factor(c(rep(1, 15), rep(2, 15), rep(3,17)))\n",
    "leveneTest(resid, grupo)"
   ]
  },
  {
   "cell_type": "markdown",
   "metadata": {},
   "source": [
    "#### Normalidad de los residuales \n",
    "Para hacer la prueba de Normalidad de los residuales contamos con varias pruebas de bondad de ajuste como son:\n",
    "1. Shapiro-Wilk Normality Test \n",
    "2. Anderson-Darling test for normality \n",
    "3. Liliiefors for normality. \n",
    "\n",
    "La finalidad de todas pruebas es contrastar la hipótesis\n",
    "$$\n",
    "H_0:e_i\\sim N(\\mu,\\sigma^2) \\hspace{1cm} H_0:e_i\\nsim N(\\mu,\\sigma^2) \n",
    "$$\n",
    "Primero haremos un histograma y la gráfica qqplot. "
   ]
  },
  {
   "cell_type": "code",
   "execution_count": 11,
   "metadata": {},
   "outputs": [
    {
     "data": {
      "image/png": "[encoded data removed]",
      "text/plain": [
       "Plot with title \"Histograma de los residuales\""
      ]
     },
     "metadata": {},
     "output_type": "display_data"
    }
   ],
   "source": [
    "opar=par(mfrow=c(1,2))\n",
    "options(repr.plot.width=7,repr.plot.height=4)\n",
    "qqPlot(resid)\n",
    "hist(resid,freq=FALSE, breaks=8, main=\"Histograma de los residuales\",\n",
    "     col=\"cornflowerblue\",xlim = c(min(resid), max(resid)))\n",
    "lines(density(resid),col=\"red\")\n",
    "par(opar)"
   ]
  },
  {
   "cell_type": "code",
   "execution_count": 12,
   "metadata": {},
   "outputs": [
    {
     "data": {
      "text/plain": [
       "\n",
       "\tAnderson-Darling normality test\n",
       "\n",
       "data:  resid\n",
       "A = 0.3218, p-value = 0.519\n"
      ]
     },
     "metadata": {},
     "output_type": "display_data"
    },
    {
     "data": {
      "text/plain": [
       "\n",
       "\tLilliefors (Kolmogorov-Smirnov) normality test\n",
       "\n",
       "data:  resid\n",
       "D = 0.079691, p-value = 0.6409\n"
      ]
     },
     "metadata": {},
     "output_type": "display_data"
    },
    {
     "data": {
      "text/plain": [
       "\n",
       "\tCramer-von Mises normality test\n",
       "\n",
       "data:  resid\n",
       "W = 0.047261, p-value = 0.5435\n"
      ]
     },
     "metadata": {},
     "output_type": "display_data"
    }
   ],
   "source": [
    "ad.test(resid)\n",
    "lillie.test(resid)\n",
    "cvm.test(resid)"
   ]
  },
  {
   "cell_type": "markdown",
   "metadata": {},
   "source": [
    "#### Multicolinearidad \n",
    "En los supuestos de la regresión se pidioque la matriz $X$ fuese de rango completo por lo que debemos verificar que no existan columnas que sean combinaciones lineales de otras. \n",
    "Verificar la multicolineridad no es facil a simple vista sin embargo existen formas de detectarla.\n",
    "1. Una forma muy simple para detectar multicolinearidad es inspeccionar la matriz de correlaciones entre las variables explicativas. ( cor(X) , pairs(X))\n",
    "2. Hacer regresiones lineales de Xq con el resto de las variables y obtener el coeficiente de determinación de dicha regresión $R_q^2$ , un coeficiente de deteminación cercana a 1 nos dice que hay un ajuste muy bueno por lo que se puede decir que existe apfroximadamente una combinación lineal de estas variables. \n",
    "Una forma de obtener indices es calcular lo que se denomina el V IFq (Factor de Inflación de la varianza) definido como:\n",
    "$$\n",
    "VIF_q=\\dfrac{1}{1-R^2}\\hspace{1cm}q\\in{0,..,k}\n",
    "$$\n",
    "Entonces si $R_q^2\\approx 1$ eso se traduce en un $VIF_q$ grande, en la práctica se suele tomar como punto de corte 5 o 10, es decir obtener un $VIFq > 10$ nos habla de que la variable Xq puede ser expresada aproximadamente como combinación lineal de las restantes y por tanto podemos tener problemas númericos en las estimaciones."
   ]
  },
  {
   "cell_type": "code",
   "execution_count": 13,
   "metadata": {},
   "outputs": [
    {
     "data": {
      "text/html": [
       "<dl class=dl-horizontal>\n",
       "\t<dt>M</dt>\n",
       "\t\t<dd>2.40048262053138</dd>\n",
       "\t<dt>So</dt>\n",
       "\t\t<dd>3.06970485314416</dd>\n",
       "\t<dt>Ed</dt>\n",
       "\t\t<dd>4.43729298916555</dd>\n",
       "\t<dt>Po1</dt>\n",
       "\t\t<dd>4.19508905332455</dd>\n",
       "\t<dt>LF</dt>\n",
       "\t\t<dd>2.92625131615682</dd>\n",
       "\t<dt>M.F</dt>\n",
       "\t\t<dd>3.28435466534269</dd>\n",
       "\t<dt>Pop</dt>\n",
       "\t\t<dd>2.12543125477189</dd>\n",
       "\t<dt>U1</dt>\n",
       "\t\t<dd>5.73073250021864</dd>\n",
       "\t<dt>U2</dt>\n",
       "\t\t<dd>4.91771144693331</dd>\n",
       "\t<dt>GDP</dt>\n",
       "\t\t<dd>5.87897235065725</dd>\n",
       "</dl>\n"
      ],
      "text/latex": [
       "\\begin{description*}\n",
       "\\item[M] 2.40048262053138\n",
       "\\item[So] 3.06970485314416\n",
       "\\item[Ed] 4.43729298916555\n",
       "\\item[Po1] 4.19508905332455\n",
       "\\item[LF] 2.92625131615682\n",
       "\\item[M.F] 3.28435466534269\n",
       "\\item[Pop] 2.12543125477189\n",
       "\\item[U1] 5.73073250021864\n",
       "\\item[U2] 4.91771144693331\n",
       "\\item[GDP] 5.87897235065725\n",
       "\\end{description*}\n"
      ],
      "text/markdown": [
       "M\n",
       ":   2.40048262053138So\n",
       ":   3.06970485314416Ed\n",
       ":   4.43729298916555Po1\n",
       ":   4.19508905332455LF\n",
       ":   2.92625131615682M.F\n",
       ":   3.28435466534269Pop\n",
       ":   2.12543125477189U1\n",
       ":   5.73073250021864U2\n",
       ":   4.91771144693331GDP\n",
       ":   5.87897235065725\n",
       "\n"
      ],
      "text/plain": [
       "       M       So       Ed      Po1       LF      M.F      Pop       U1 \n",
       "2.400483 3.069705 4.437293 4.195089 2.926251 3.284355 2.125431 5.730733 \n",
       "      U2      GDP \n",
       "4.917711 5.878972 "
      ]
     },
     "metadata": {},
     "output_type": "display_data"
    }
   ],
   "source": [
    "vif(modelo)"
   ]
  },
  {
   "cell_type": "markdown",
   "metadata": {},
   "source": [
    "Prácticamente para todas las observaciones el $VIF$ son menores que $10$ no tenemos problemas"
   ]
  },
  {
   "cell_type": "markdown",
   "metadata": {},
   "source": [
    "#### Outliers y Observaciones influyentes\n",
    "Hay dos propósitos principales para tratar de identificar las observaciones que no pertenecen al\n",
    "modelo\n",
    "1. Proteger la integridad del modelo de los efectos de los puntos que no pertenecen a éste. (Observaciones que no pertenecen al modelo) Frecuentemente exhiben residuales grandes.\n",
    "2. Identificar las deficiencias del modelo.\n",
    "\n",
    "El primer paso para identificar observaciones atípicas es tener una idea de la región en donde\n",
    "estamos muestreando, la idea es encontrar una métrica que nos ayude a decidir si una observación de\n",
    "las variables independientes está muy alejada de la región de muestreo. En general una observación\n",
    "que se encuentra lejos de donde esta la masa de puntos ocasiona que el modelo cambie de manera\n",
    "significativa (Aunque no necesariamente).\n",
    "\n",
    "Para detectar los puntos de muestreo que están alejados se utiliza la matriz sombrero. A los elementos de la diagonal de $H (h_{ii})$ se les conoce como el leverage o la inuencia de cada observación. De este modo un leverage grande nos habla de una observación alejada de la masa de los puntos de muestreo. En promedio los leverages toman el valor de $p/n$. Existe una regla muy utilizada que dice que aquellos $h_{ii}$ que sean mayores a dos veces al promedio son puntos alejados y por tanto\n",
    "deben de ser analizados."
   ]
  },
  {
   "cell_type": "code",
   "execution_count": 15,
   "metadata": {},
   "outputs": [
    {
     "data": {
      "image/png": "[encoded data removed]",
      "text/plain": [
       "plot without title"
      ]
     },
     "metadata": {},
     "output_type": "display_data"
    }
   ],
   "source": [
    "# Leverage\n",
    "p = dim(X)[2]\n",
    "n =  dim(X)[1]\n",
    "# La funcion hat obtiene la diagonal de matriz sombrero\n",
    "h = hat(X)\n",
    "options(repr.plot.width=7,repr.plot.height=3.5)\n",
    "plot(h, xlab = \"index\", ylab = \"leverage\",col=\"blue\")\n",
    "abline(h = 2 * (p + 1)/n)\n",
    "text(h, pos = 1)"
   ]
  },
  {
   "cell_type": "markdown",
   "metadata": {},
   "source": [
    "Las observaciones 26 y 37 estan alejados de la zona de muestra y habrá que revisarlas"
   ]
  },
  {
   "cell_type": "markdown",
   "metadata": {},
   "source": [
    "#### Outliers\n",
    "Es un punto que no ajusta en el modelo.\n",
    "$s^2$ para $e_i$ no es constante, lo que hace difícil identificar las observaciones con residuos grandes. Por ello es usual estandarizarlos, se definen los residuos estandarizados como:\n",
    "$$\n",
    "r_i=\\dfrac{e_i}{\\hat{\\sigma}\\sqrt{1-h_{ii}}}\n",
    "$$\n",
    "Los residuos estandarizados tienen media cero y varianza próxima a 1, ésto permite distinguir a los residuos grandes.\n",
    "Una observación con residuo grande se denominan dato atípico (outlier), normalmente se considera que una observación es un dato atípico si tiene un residuo estandarizado que no se encuentren en una banda entre $-3$ y $3$."
   ]
  },
  {
   "cell_type": "code",
   "execution_count": 26,
   "metadata": {},
   "outputs": [
    {
     "data": {
      "image/png": "[encoded data removed]",
      "text/plain": [
       "plot without title"
      ]
     },
     "metadata": {},
     "output_type": "display_data"
    }
   ],
   "source": [
    "s2 = anova(modelo)$\"Mean Sq\"[11]\n",
    "resstud = resid/sqrt(s2 * (1 - h))\n",
    "plot(resstud, xlab = \"Index\", ylab = \"Residuos Estudentizados\", ylim = c(-4, 4))\n",
    "abline(h = c(-3, 3))\n",
    "text(resstud, pos = 1)"
   ]
  }
 ],
 "metadata": {
  "kernelspec": {
   "display_name": "R",
   "language": "R",
   "name": "ir"
  },
  "language_info": {
   "codemirror_mode": "r",
   "file_extension": ".r",
   "mimetype": "text/x-r-source",
   "name": "R",
   "pygments_lexer": "r",
   "version": "3.4.3"
  }
 },
 "nbformat": 4,
 "nbformat_minor": 2
}
